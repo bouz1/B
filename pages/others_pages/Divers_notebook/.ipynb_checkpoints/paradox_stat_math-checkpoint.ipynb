{
 "cells": [
  {
   "cell_type": "code",
   "execution_count": 2,
   "id": "7f3c04e4-40c0-4a51-9078-d2e7132a6085",
   "metadata": {},
   "outputs": [],
   "source": [
    "import numpy as np"
   ]
  },
  {
   "cell_type": "markdown",
   "id": "d642458a-a5b2-4827-adde-d0a217f60ea9",
   "metadata": {},
   "source": [
    "# 3. Le paradoxe de l’amitié\n",
    "Énoncé : \"En moyenne, vos amis ont plus d’amis que vous.\"\n",
    "<br>Pourquoi : Les personnes ayant plus d’amis sont plus susceptibles d’être vos amis, elles sont donc surreprésentées dans les réseaux sociaux. Ce paradoxe est dû à un biais d'échantillonnage."
   ]
  },
  {
   "cell_type": "code",
   "execution_count": 131,
   "id": "7e634bb2-0dad-4001-a939-3fbdc73a11c9",
   "metadata": {},
   "outputs": [],
   "source": [
    "N=1000\n",
    "n=50\n",
    "nbAmities = np.random.randint(1,n,N)\n",
    "nbAmities [:10]\n",
    "np.random.seed(42)"
   ]
  },
  {
   "cell_type": "code",
   "execution_count": null,
   "id": "5d4a790f-bee9-4335-a3da-ab4d4c65dd5c",
   "metadata": {},
   "outputs": [],
   "source": []
  },
  {
   "cell_type": "code",
   "execution_count": 132,
   "id": "0c69ae8d-f179-42b8-9264-cb2e4ec40fc6",
   "metadata": {},
   "outputs": [],
   "source": [
    "arr=[]\n",
    "for i in range(N): \n",
    "    arr.append(np.random.randint(0,N,np.random.randint(0,n)))"
   ]
  },
  {
   "cell_type": "code",
   "execution_count": 133,
   "id": "1d1078d4-b159-4341-b857-818f1bb3c40d",
   "metadata": {},
   "outputs": [
    {
     "data": {
      "text/plain": [
       "686"
      ]
     },
     "execution_count": 133,
     "metadata": {},
     "output_type": "execute_result"
    }
   ],
   "source": [
    "toi = np.random.randint(0,N)\n",
    "toi"
   ]
  },
  {
   "cell_type": "code",
   "execution_count": 134,
   "id": "d360d1f8-61fa-4e69-a946-608f8bd1c8a3",
   "metadata": {},
   "outputs": [
    {
     "name": "stdout",
     "output_type": "stream",
     "text": [
      "Nb de tes amis  25\n"
     ]
    }
   ],
   "source": [
    "print( \"Nb de tes amis \", len(arr[toi]))"
   ]
  },
  {
   "cell_type": "code",
   "execution_count": 135,
   "id": "84b3474b-4e69-4f6b-88a7-3a63c04e627f",
   "metadata": {},
   "outputs": [
    {
     "name": "stdout",
     "output_type": "stream",
     "text": [
      "ton ami 70 a  20 amis\n",
      "ton ami 518 a  41 amis\n",
      "ton ami 711 a  28 amis\n",
      "ton ami 335 a  44 amis\n",
      "ton ami 66 a  31 amis\n",
      "ton ami 492 a  14 amis\n",
      "ton ami 649 a  41 amis\n",
      "ton ami 753 a  39 amis\n",
      "ton ami 966 a  22 amis\n",
      "ton ami 212 a  28 amis\n",
      "ton ami 180 a  27 amis\n",
      "ton ami 765 a  30 amis\n",
      "ton ami 612 a  24 amis\n",
      "ton ami 862 a  26 amis\n",
      "ton ami 598 a  38 amis\n",
      "ton ami 696 a  6 amis\n",
      "ton ami 602 a  18 amis\n",
      "ton ami 247 a  15 amis\n",
      "ton ami 213 a  23 amis\n",
      "ton ami 358 a  31 amis\n",
      "ton ami 248 a  46 amis\n",
      "ton ami 637 a  14 amis\n",
      "ton ami 922 a  46 amis\n",
      "ton ami 949 a  40 amis\n",
      "ton ami 880 a  39 amis\n",
      "Nb de tes amis  25\n",
      "Nb moyen d'amis de vos amis est  29.2\n"
     ]
    }
   ],
   "source": [
    "for i in arr[toi]: \n",
    "    print(\"ton ami\" ,i , \"a \", len(arr[i]), \"amis\")\n",
    "print( \"Nb de tes amis \", len(arr[toi]))\n",
    "print(\"Nb moyen d'amis de vos amis est \",\n",
    "float(round (np.mean([len(arr[i])  for i in arr[toi]]),1)) ) "
   ]
  },
  {
   "cell_type": "raw",
   "id": "c7eac769-ca41-4218-a9c1-7c6635cc19c3",
   "metadata": {},
   "source": [
    "NBtesAmis=[]\n",
    "Nbamisdetesamis=[]\n",
    "for toi in range (N): \n",
    "    Nbamisdetesamis.append(float(round (np.mean([len(arr[i])  for i in arr[toi]]),1)))\n",
    "    NBtesAmis.append(len(arr[toi]))"
   ]
  },
  {
   "cell_type": "raw",
   "id": "6831a351-300d-4f55-8282-e242aa4db365",
   "metadata": {},
   "source": [
    "len(NBtesAmis) , len(Nbamisdetesamis)"
   ]
  },
  {
   "cell_type": "raw",
   "id": "989de170-25d4-4253-83bf-5fa3878d72ad",
   "metadata": {},
   "source": [
    "Nbamisdetesamis[:10]"
   ]
  },
  {
   "cell_type": "raw",
   "id": "7270bddb-fc52-4904-a663-4715ba459182",
   "metadata": {},
   "source": [
    "idx= [i for i in range(10) if len(arr[i]) ==0]\n",
    "arr[idx[0]]"
   ]
  },
  {
   "cell_type": "raw",
   "id": "af0aeb2e-ac1a-4cac-a202-0466a03080ef",
   "metadata": {},
   "source": []
  },
  {
   "cell_type": "raw",
   "id": "a726935d-aaf7-47b6-9d51-998966573ad1",
   "metadata": {},
   "source": [
    "print(\"NB moyen d'amis de chaque membres\",  np.mean(NBtesAmis) ,\n",
    "      \"NB moyenne d'amis de ces amis \", np.nanmean(Nbamisdetesamis))"
   ]
  },
  {
   "cell_type": "code",
   "execution_count": null,
   "id": "bd79373b-a28a-4e3d-8538-7c50c714ddf8",
   "metadata": {},
   "outputs": [],
   "source": []
  },
  {
   "cell_type": "markdown",
   "id": "292d9a2b-0b35-4ad2-9554-13ddd3f6b8a6",
   "metadata": {},
   "source": [
    "# Le paradoxe des anniversaires\n",
    "Un paradoxe de probabilité qui défie l’intuition :\n",
    "\n",
    "<br>Scénario : Dans un groupe de seulement 23 personnes, quelle est la probabilité que deux personnes partagent le même anniversaire ?\n",
    "<br>Paradoxe : L’intuition pourrait nous faire penser que la probabilité est faible, mais en réalité, elle est d’environ 50 %. Avec 50 personnes, la probabilité dépasse 97 %. Ce résultat s’explique par le fait qu’il y a beaucoup de comparaisons possibles entre les membres du groupe."
   ]
  },
  {
   "cell_type": "code",
   "execution_count": 172,
   "id": "042a6595-24fa-4438-84f9-7151dc9c81c0",
   "metadata": {},
   "outputs": [
    {
     "data": {
      "text/plain": [
       "array([173,  48, 118, 193, 324, 252, 196, 360,  10, 212, 278, 243, 293,\n",
       "        88,  71,  89, 315, 194,  40,  88, 175,  89, 338])"
      ]
     },
     "execution_count": 172,
     "metadata": {},
     "output_type": "execute_result"
    }
   ],
   "source": [
    "np.random.seed(0)\n",
    "Ngroupes=1000\n",
    "nelements=23\n",
    "np.random.randint(1,365,nelements)"
   ]
  },
  {
   "cell_type": "code",
   "execution_count": 173,
   "id": "8195c6ab-209d-41b0-82c7-28e6e0921781",
   "metadata": {},
   "outputs": [
    {
     "data": {
      "text/plain": [
       "array([[166,  26, 334, ..., 182, 285, 342],\n",
       "       [217,  74, 338, ..., 140, 311,   6],\n",
       "       [274, 251,  79, ..., 255,  81, 314],\n",
       "       ...,\n",
       "       [158,  37, 299, ...,  66,  99, 200],\n",
       "       [307, 360, 322, ..., 315, 196, 321],\n",
       "       [357, 189, 143, ..., 144, 357, 272]], shape=(23, 1000))"
      ]
     },
     "execution_count": 173,
     "metadata": {},
     "output_type": "execute_result"
    }
   ],
   "source": [
    "X= np.random.randint(1,365,(nelements, Ngroupes))\n",
    "X"
   ]
  },
  {
   "cell_type": "code",
   "execution_count": 174,
   "id": "515a6b57-4954-49f2-b3ad-287a6fecaf94",
   "metadata": {},
   "outputs": [
    {
     "data": {
      "text/plain": [
       "0.523"
      ]
     },
     "execution_count": 174,
     "metadata": {},
     "output_type": "execute_result"
    }
   ],
   "source": [
    "float(np.array([len(x)>len(set(x )) for x in X.T]).astype(int).mean())"
   ]
  },
  {
   "cell_type": "code",
   "execution_count": 175,
   "id": "55d2a0e8-450e-4ee3-ba33-62dd67b14f2b",
   "metadata": {},
   "outputs": [
    {
     "data": {
      "text/plain": [
       "0.964"
      ]
     },
     "execution_count": 175,
     "metadata": {},
     "output_type": "execute_result"
    }
   ],
   "source": [
    "Ngroupes=1000\n",
    "nelements=50\n",
    "X= np.random.randint(1,365,(nelements, Ngroupes))\n",
    "float(np.array([len(x)>len(set(x )) for x in X.T]).astype(int).mean())"
   ]
  },
  {
   "cell_type": "code",
   "execution_count": 3,
   "id": "220907b9-37ec-4916-9c55-43e042f37789",
   "metadata": {},
   "outputs": [
    {
     "data": {
      "text/plain": [
       "array([0.5, 0.5, 0.5, 0.5, 0.5, 0.5, 0.5, 0.5, 0.5, 0.5, 0.5, 0.5, 0.5,\n",
       "       0.5, 0.5, 0.5, 0.5, 0.5, 0.5, 0.5, 0.5, 0.5, 0.5, 0.5, 0.5, 0.5,\n",
       "       0.5, 0.5, 0.5, 0.5, 0.5, 0.5, 0.5, 0.5, 0.5, 0.5, 0.5, 0.5, 0.5,\n",
       "       0.5, 0.5, 0.5, 0.5, 0.5, 0.5, 0.5, 0.5, 0.5, 0.5, 0.5, 0.5, 0.5,\n",
       "       0.5, 0.5, 0.5, 0.5, 0.5, 0.5, 0.5, 0.5, 0.5, 0.5, 0.5, 0.5, 0.5,\n",
       "       0.5, 0.5, 0.5, 0.5, 0.5, 0.5, 0.5, 0.5, 0.5, 0.5, 0.5, 0.5, 0.5,\n",
       "       0.5, 0.5, 0.5, 0.5, 0.5, 0.5, 0.5, 0.5, 0.5, 0.5, 0.5, 0.5, 0.5,\n",
       "       0.5, 0.5, 0.5, 0.5, 0.5, 0.5, 0.5, 0.5, 0.5])"
      ]
     },
     "execution_count": 3,
     "metadata": {},
     "output_type": "execute_result"
    }
   ],
   "source": [
    "import numpy as np\n",
    "np.full(100, 0.5)"
   ]
  },
  {
   "cell_type": "code",
   "execution_count": 6,
   "id": "0a041ff9-311f-4bf2-b72d-e5336bd118f2",
   "metadata": {},
   "outputs": [
    {
     "data": {
      "image/png": "[encoded data removed]",
      "text/plain": [
       "<Figure size 1200x600 with 2 Axes>"
      ]
     },
     "metadata": {},
     "output_type": "display_data"
    }
   ],
   "source": [
    "import numpy as np\n",
    "import matplotlib.pyplot as plt\n",
    "\n",
    "# Nombre de points et dimensions à analyser\n",
    "num_points = 1000\n",
    "dimensions = [2,3, 5, 10,20 ]\n",
    "\n",
    "# Stockage des résultats\n",
    "mean_distances = []  # Moyenne des distances entre les points\n",
    "edge_ratios = []     # Ratio des points proches des bords\n",
    "\n",
    "for dim in dimensions:\n",
    "    # Génération de points aléatoires dans un hypercube [0, 1]^dim\n",
    "    points = np.random.uniform(0, 1, size=(num_points, dim))\n",
    "    \n",
    "    # Calcul des distances au centre (0.5, 0.5, ..., 0.5)\n",
    "    center = np.full(dim, 0.5) \n",
    "    distances_to_center = np.linalg.norm(points - center, axis=1)\n",
    "    \n",
    "    # Calcul des distances entre chaque paire de points\n",
    "    distances = np.linalg.norm(points[:, None, :] - points[None, :, :], axis=-1)\n",
    "    mean_distance = np.mean(distances)\n",
    "    mean_distances.append(mean_distance)\n",
    "    \n",
    "    # Proportion de points \"proches du bord\" (distance à un bord < 0.1)\n",
    "    close_to_edge = np.any((points < 0.1) | (points > 0.9), axis=1)\n",
    "    edge_ratio = np.sum(close_to_edge) / num_points\n",
    "    edge_ratios.append(edge_ratio)\n",
    "\n",
    "# Affichage des résultats\n",
    "plt.figure(figsize=(12, 6))\n",
    "\n",
    "# Courbe des distances moyennes\n",
    "plt.subplot(1, 2, 1)\n",
    "plt.plot(dimensions, mean_distances, marker='o')\n",
    "plt.title(\"Distance moyenne entre les points\")\n",
    "plt.xlabel(\"Dimension\")\n",
    "plt.ylabel(\"Distance moyenne\")\n",
    "plt.grid(True)\n",
    "\n",
    "# Courbe du ratio des points proches des bords\n",
    "plt.subplot(1, 2, 2)\n",
    "plt.plot(dimensions, edge_ratios, marker='o', color='orange')\n",
    "plt.title(\"Ratio de points proches des bords\")\n",
    "plt.xlabel(\"Dimension\")\n",
    "plt.ylabel(\"Ratio des points proches des bords\")\n",
    "plt.grid(True)\n",
    "\n",
    "plt.tight_layout()\n",
    "plt.show()\n"
   ]
  },
  {
   "cell_type": "markdown",
   "id": "54857966-d652-4eae-8e66-06380f8c3e7d",
   "metadata": {},
   "source": [
    "# Paradoxe des trois pièces de monnaie"
   ]
  },
  {
   "cell_type": "markdown",
   "id": "345dd91b-5e47-4061-976c-5329de256ae0",
   "metadata": {},
   "source": [
    "On lance trois pièces de monnaie. Quelle est la probabilité que celles-ci retombent du même côté, que ce soit pile ou face ? Une chance sur 4 (un quart).\n",
    "<br> Pourtant, si je lance trois pièces, il y en a forcément deux qui seront déjà du même côté ; la troisième y sera avec une chance sur deux. Candide affirme donc qu'il y a une chance sur deux que toutes trois tombent du même côté.\n",
    "<br>La probabilité correcte étant 1/4 et non 1/2, le problème consiste à repérer l'erreur de raisonnement aboutissant à la mauvaise conclusion"
   ]
  },
  {
   "cell_type": "raw",
   "id": "83a40d44-3450-4f30-a05b-41c288be8079",
   "metadata": {},
   "source": [
    "[001]\n",
    "[010]\n",
    ".....\n",
    "avec 3 bits on peut faires 8 combinaisons, uniquement 2 sot de même nature 000 et 111 donc 2/8=1/4"
   ]
  },
  {
   "cell_type": "code",
   "execution_count": 4,
   "id": "20a155fc-96e4-4f88-8d74-2917f4e5b835",
   "metadata": {},
   "outputs": [
    {
     "name": "stdout",
     "output_type": "stream",
     "text": [
      "FFF\n",
      "FFP\n",
      "FPF\n",
      "FPP\n",
      "PFF\n",
      "PFP\n",
      "PPF\n",
      "PPP\n"
     ]
    }
   ],
   "source": [
    "n = 3  # number of bits\n",
    "\n",
    "# Generate all combinations from 0 to 2^n - 1\n",
    "arr=[]\n",
    "for i in range(2**n):\n",
    "    # Format the number as a binary string with leading zeros\n",
    "    binary_str = format(i, f'0{n}b').replace(\"0\",\"F\").replace(\"1\",\"P\")\n",
    "    print(binary_str)\n",
    "    arr.append(binary_str)\n"
   ]
  },
  {
   "cell_type": "code",
   "execution_count": 7,
   "id": "86621168-b75c-4cb6-a562-33e6a27fd11b",
   "metadata": {},
   "outputs": [
    {
     "data": {
      "text/plain": [
       "['FFF', 'PPP']"
      ]
     },
     "execution_count": 7,
     "metadata": {},
     "output_type": "execute_result"
    }
   ],
   "source": [
    "[x for x in arr if x=='FFF' or x == \"PPP\"  ]"
   ]
  },
  {
   "cell_type": "code",
   "execution_count": 8,
   "id": "c54e2adc-b9a5-4a47-bfb7-7c699bb27c55",
   "metadata": {},
   "outputs": [
    {
     "data": {
      "text/plain": [
       "0.25"
      ]
     },
     "execution_count": 8,
     "metadata": {},
     "output_type": "execute_result"
    }
   ],
   "source": [
    "len([x for x in arr if x=='FFF' or x == \"PPP\"  ]) /len(arr)"
   ]
  }
 ],
 "metadata": {
  "kernelspec": {
   "display_name": "newKernelVENV",
   "language": "python",
   "name": "newkernelvenv"
  },
  "language_info": {
   "codemirror_mode": {
    "name": "ipython",
    "version": 3
   },
   "file_extension": ".py",
   "mimetype": "text/x-python",
   "name": "python",
   "nbconvert_exporter": "python",
   "pygments_lexer": "ipython3",
   "version": "3.12.7"
  }
 },
 "nbformat": 4,
 "nbformat_minor": 5
}
