{
 "cells": [
  {
   "cell_type": "markdown",
   "id": "ccd6b496-436c-4582-a73c-f4aa385c1be9",
   "metadata": {},
   "source": [
    "# Make dataFrame"
   ]
  },
  {
   "cell_type": "code",
   "execution_count": 1,
   "id": "29902fd0-076b-405d-bc2f-b437b19bbcd8",
   "metadata": {},
   "outputs": [],
   "source": [
    "#!pip install dask==2025.2.0 "
   ]
  },
  {
   "cell_type": "code",
   "execution_count": 2,
   "id": "f0251ecd-63d4-40aa-ae0f-8d8b17366e37",
   "metadata": {},
   "outputs": [],
   "source": [
    "#!pip install polars==1.22.0 "
   ]
  },
  {
   "cell_type": "code",
   "execution_count": 3,
   "id": "b652e5b3-d275-4ed0-bbbc-4c618e07fc96",
   "metadata": {},
   "outputs": [],
   "source": [
    "#!pip install pandas==2.2.3"
   ]
  },
  {
   "cell_type": "code",
   "execution_count": 4,
   "id": "5489d983-69f7-4f68-af70-d46e25740e45",
   "metadata": {},
   "outputs": [],
   "source": [
    "#!pip install pyarrow==19.0.0 # dependency of dask.dataframe"
   ]
  },
  {
   "cell_type": "code",
   "execution_count": 5,
   "id": "25cd69ac-e09e-463b-84c1-0784a6513d3b",
   "metadata": {},
   "outputs": [],
   "source": [
    "import time"
   ]
  },
  {
   "cell_type": "code",
   "execution_count": 6,
   "id": "01f38b95-979c-4c66-be5b-04f91b28e351",
   "metadata": {},
   "outputs": [
    {
     "name": "stdout",
     "output_type": "stream",
     "text": [
      "shape (10000000, 6)\n",
      "457.8 MB\n"
     ]
    }
   ],
   "source": [
    "import numpy as np\n",
    "\n",
    "M,N=10000000,5\n",
    "arr = np.random.uniform(-1, 1, size=(M, N))\n",
    "colsint= np.random.randint(0,100,(M,1))\n",
    "arr2=np.concatenate((arr, colsint), axis=1).astype(\"float64\")\n",
    "print(\"shape\",arr2.shape)\n",
    "print(round((M*(N+1)*64/8)/(1024*1024), 1),\"MB\")"
   ]
  },
  {
   "cell_type": "code",
   "execution_count": 7,
   "id": "a459509e-4334-45f0-949e-24a0c5daa447",
   "metadata": {},
   "outputs": [
    {
     "name": "stdout",
     "output_type": "stream",
     "text": [
      "<class 'pandas.core.frame.DataFrame'>\n",
      "RangeIndex: 10000000 entries, 0 to 9999999\n",
      "Data columns (total 6 columns):\n",
      " #   Column  Dtype  \n",
      "---  ------  -----  \n",
      " 0   a       float64\n",
      " 1   b       float64\n",
      " 2   c       float64\n",
      " 3   d       float64\n",
      " 4   e       float64\n",
      " 5   colint  float64\n",
      "dtypes: float64(6)\n",
      "memory usage: 457.8 MB\n"
     ]
    }
   ],
   "source": [
    "import pandas as pd\n",
    "dfpd = pd.DataFrame(arr2, columns=[\"a\",\"b\",\"c\",\"d\",\"e\",\"colint\"])\n",
    "dfpd.info()"
   ]
  },
  {
   "cell_type": "code",
   "execution_count": 8,
   "id": "8cc490b8-d83d-4d8a-bdf1-8297868dda84",
   "metadata": {},
   "outputs": [
    {
     "data": {
      "text/html": [
       "<div>\n",
       "<style scoped>\n",
       "    .dataframe tbody tr th:only-of-type {\n",
       "        vertical-align: middle;\n",
       "    }\n",
       "\n",
       "    .dataframe tbody tr th {\n",
       "        vertical-align: top;\n",
       "    }\n",
       "\n",
       "    .dataframe thead th {\n",
       "        text-align: right;\n",
       "    }\n",
       "</style>\n",
       "<table border=\"1\" class=\"dataframe\">\n",
       "  <thead>\n",
       "    <tr style=\"text-align: right;\">\n",
       "      <th></th>\n",
       "      <th>a</th>\n",
       "      <th>b</th>\n",
       "      <th>c</th>\n",
       "      <th>d</th>\n",
       "      <th>e</th>\n",
       "      <th>colint</th>\n",
       "    </tr>\n",
       "  </thead>\n",
       "  <tbody>\n",
       "    <tr>\n",
       "      <th>0</th>\n",
       "      <td>-0.138173</td>\n",
       "      <td>-0.151082</td>\n",
       "      <td>0.436961</td>\n",
       "      <td>-0.900929</td>\n",
       "      <td>0.592361</td>\n",
       "      <td>6.0</td>\n",
       "    </tr>\n",
       "    <tr>\n",
       "      <th>1</th>\n",
       "      <td>0.738094</td>\n",
       "      <td>0.187480</td>\n",
       "      <td>-0.778493</td>\n",
       "      <td>0.679556</td>\n",
       "      <td>-0.589535</td>\n",
       "      <td>69.0</td>\n",
       "    </tr>\n",
       "    <tr>\n",
       "      <th>2</th>\n",
       "      <td>-0.020816</td>\n",
       "      <td>-0.528047</td>\n",
       "      <td>-0.255709</td>\n",
       "      <td>0.653543</td>\n",
       "      <td>0.695637</td>\n",
       "      <td>60.0</td>\n",
       "    </tr>\n",
       "    <tr>\n",
       "      <th>3</th>\n",
       "      <td>0.476972</td>\n",
       "      <td>0.036437</td>\n",
       "      <td>-0.013529</td>\n",
       "      <td>-0.196578</td>\n",
       "      <td>-0.823877</td>\n",
       "      <td>57.0</td>\n",
       "    </tr>\n",
       "    <tr>\n",
       "      <th>4</th>\n",
       "      <td>0.641555</td>\n",
       "      <td>-0.081815</td>\n",
       "      <td>-0.591127</td>\n",
       "      <td>-0.045734</td>\n",
       "      <td>-0.146546</td>\n",
       "      <td>67.0</td>\n",
       "    </tr>\n",
       "  </tbody>\n",
       "</table>\n",
       "</div>"
      ],
      "text/plain": [
       "          a         b         c         d         e  colint\n",
       "0 -0.138173 -0.151082  0.436961 -0.900929  0.592361     6.0\n",
       "1  0.738094  0.187480 -0.778493  0.679556 -0.589535    69.0\n",
       "2 -0.020816 -0.528047 -0.255709  0.653543  0.695637    60.0\n",
       "3  0.476972  0.036437 -0.013529 -0.196578 -0.823877    57.0\n",
       "4  0.641555 -0.081815 -0.591127 -0.045734 -0.146546    67.0"
      ]
     },
     "execution_count": 8,
     "metadata": {},
     "output_type": "execute_result"
    }
   ],
   "source": [
    "dfpd.head()"
   ]
  },
  {
   "cell_type": "code",
   "execution_count": 9,
   "id": "bd3164c3-d996-4c0e-8007-5cf0e5301e6e",
   "metadata": {},
   "outputs": [
    {
     "name": "stdout",
     "output_type": "stream",
     "text": [
      "<class 'dask.dataframe.dask_expr.DataFrame'>\n",
      "Columns: 6 entries, a to colint\n",
      "dtypes: float64(6)"
     ]
    }
   ],
   "source": [
    "import dask.dataframe as dd\n",
    "dfdd = dd.from_pandas(dfpd, npartitions=20)\n",
    "dfdd.info()"
   ]
  },
  {
   "cell_type": "code",
   "execution_count": 10,
   "id": "317d454f-f742-4159-9dd4-262ac6aff736",
   "metadata": {},
   "outputs": [
    {
     "data": {
      "text/html": [
       "<div>\n",
       "<style scoped>\n",
       "    .dataframe tbody tr th:only-of-type {\n",
       "        vertical-align: middle;\n",
       "    }\n",
       "\n",
       "    .dataframe tbody tr th {\n",
       "        vertical-align: top;\n",
       "    }\n",
       "\n",
       "    .dataframe thead th {\n",
       "        text-align: right;\n",
       "    }\n",
       "</style>\n",
       "<table border=\"1\" class=\"dataframe\">\n",
       "  <thead>\n",
       "    <tr style=\"text-align: right;\">\n",
       "      <th></th>\n",
       "      <th>a</th>\n",
       "      <th>b</th>\n",
       "      <th>c</th>\n",
       "      <th>d</th>\n",
       "      <th>e</th>\n",
       "      <th>colint</th>\n",
       "    </tr>\n",
       "  </thead>\n",
       "  <tbody>\n",
       "    <tr>\n",
       "      <th>0</th>\n",
       "      <td>-0.138173</td>\n",
       "      <td>-0.151082</td>\n",
       "      <td>0.436961</td>\n",
       "      <td>-0.900929</td>\n",
       "      <td>0.592361</td>\n",
       "      <td>6.0</td>\n",
       "    </tr>\n",
       "    <tr>\n",
       "      <th>1</th>\n",
       "      <td>0.738094</td>\n",
       "      <td>0.187480</td>\n",
       "      <td>-0.778493</td>\n",
       "      <td>0.679556</td>\n",
       "      <td>-0.589535</td>\n",
       "      <td>69.0</td>\n",
       "    </tr>\n",
       "    <tr>\n",
       "      <th>2</th>\n",
       "      <td>-0.020816</td>\n",
       "      <td>-0.528047</td>\n",
       "      <td>-0.255709</td>\n",
       "      <td>0.653543</td>\n",
       "      <td>0.695637</td>\n",
       "      <td>60.0</td>\n",
       "    </tr>\n",
       "    <tr>\n",
       "      <th>3</th>\n",
       "      <td>0.476972</td>\n",
       "      <td>0.036437</td>\n",
       "      <td>-0.013529</td>\n",
       "      <td>-0.196578</td>\n",
       "      <td>-0.823877</td>\n",
       "      <td>57.0</td>\n",
       "    </tr>\n",
       "    <tr>\n",
       "      <th>4</th>\n",
       "      <td>0.641555</td>\n",
       "      <td>-0.081815</td>\n",
       "      <td>-0.591127</td>\n",
       "      <td>-0.045734</td>\n",
       "      <td>-0.146546</td>\n",
       "      <td>67.0</td>\n",
       "    </tr>\n",
       "  </tbody>\n",
       "</table>\n",
       "</div>"
      ],
      "text/plain": [
       "          a         b         c         d         e  colint\n",
       "0 -0.138173 -0.151082  0.436961 -0.900929  0.592361     6.0\n",
       "1  0.738094  0.187480 -0.778493  0.679556 -0.589535    69.0\n",
       "2 -0.020816 -0.528047 -0.255709  0.653543  0.695637    60.0\n",
       "3  0.476972  0.036437 -0.013529 -0.196578 -0.823877    57.0\n",
       "4  0.641555 -0.081815 -0.591127 -0.045734 -0.146546    67.0"
      ]
     },
     "execution_count": 10,
     "metadata": {},
     "output_type": "execute_result"
    }
   ],
   "source": [
    "dfdd.head()"
   ]
  },
  {
   "cell_type": "code",
   "execution_count": 11,
   "id": "52c5269c-2042-4c5c-bfe2-6265822583a7",
   "metadata": {},
   "outputs": [],
   "source": [
    "import polars as pl\n",
    "dfpl = pl.DataFrame(dfpd)"
   ]
  },
  {
   "cell_type": "code",
   "execution_count": 12,
   "id": "8637a458-9d03-49c7-abd0-03f280437000",
   "metadata": {},
   "outputs": [
    {
     "data": {
      "text/html": [
       "<div><style>\n",
       ".dataframe > thead > tr,\n",
       ".dataframe > tbody > tr {\n",
       "  text-align: right;\n",
       "  white-space: pre-wrap;\n",
       "}\n",
       "</style>\n",
       "<small>shape: (5, 6)</small><table border=\"1\" class=\"dataframe\"><thead><tr><th>a</th><th>b</th><th>c</th><th>d</th><th>e</th><th>colint</th></tr><tr><td>f64</td><td>f64</td><td>f64</td><td>f64</td><td>f64</td><td>f64</td></tr></thead><tbody><tr><td>-0.138173</td><td>-0.151082</td><td>0.436961</td><td>-0.900929</td><td>0.592361</td><td>6.0</td></tr><tr><td>0.738094</td><td>0.18748</td><td>-0.778493</td><td>0.679556</td><td>-0.589535</td><td>69.0</td></tr><tr><td>-0.020816</td><td>-0.528047</td><td>-0.255709</td><td>0.653543</td><td>0.695637</td><td>60.0</td></tr><tr><td>0.476972</td><td>0.036437</td><td>-0.013529</td><td>-0.196578</td><td>-0.823877</td><td>57.0</td></tr><tr><td>0.641555</td><td>-0.081815</td><td>-0.591127</td><td>-0.045734</td><td>-0.146546</td><td>67.0</td></tr></tbody></table></div>"
      ],
      "text/plain": [
       "shape: (5, 6)\n",
       "┌───────────┬───────────┬───────────┬───────────┬───────────┬────────┐\n",
       "│ a         ┆ b         ┆ c         ┆ d         ┆ e         ┆ colint │\n",
       "│ ---       ┆ ---       ┆ ---       ┆ ---       ┆ ---       ┆ ---    │\n",
       "│ f64       ┆ f64       ┆ f64       ┆ f64       ┆ f64       ┆ f64    │\n",
       "╞═══════════╪═══════════╪═══════════╪═══════════╪═══════════╪════════╡\n",
       "│ -0.138173 ┆ -0.151082 ┆ 0.436961  ┆ -0.900929 ┆ 0.592361  ┆ 6.0    │\n",
       "│ 0.738094  ┆ 0.18748   ┆ -0.778493 ┆ 0.679556  ┆ -0.589535 ┆ 69.0   │\n",
       "│ -0.020816 ┆ -0.528047 ┆ -0.255709 ┆ 0.653543  ┆ 0.695637  ┆ 60.0   │\n",
       "│ 0.476972  ┆ 0.036437  ┆ -0.013529 ┆ -0.196578 ┆ -0.823877 ┆ 57.0   │\n",
       "│ 0.641555  ┆ -0.081815 ┆ -0.591127 ┆ -0.045734 ┆ -0.146546 ┆ 67.0   │\n",
       "└───────────┴───────────┴───────────┴───────────┴───────────┴────────┘"
      ]
     },
     "execution_count": 12,
     "metadata": {},
     "output_type": "execute_result"
    }
   ],
   "source": [
    "dfpl.head()"
   ]
  },
  {
   "cell_type": "markdown",
   "id": "3d5efc2e-bd9d-449f-aa18-c089b28c0594",
   "metadata": {},
   "source": [
    "# Benchmark"
   ]
  },
  {
   "cell_type": "code",
   "execution_count": 13,
   "id": "dea0cfb8-7aea-4d92-9009-e59d7c4dea7a",
   "metadata": {},
   "outputs": [],
   "source": [
    "bench=[]"
   ]
  },
  {
   "cell_type": "markdown",
   "id": "06ceed72-6288-4837-a60f-6ccc9324f61d",
   "metadata": {},
   "source": [
    "## Save load parquet"
   ]
  },
  {
   "cell_type": "code",
   "execution_count": 14,
   "id": "9f0ef143-7e27-4694-886d-1b7f8239d561",
   "metadata": {},
   "outputs": [
    {
     "name": "stdout",
     "output_type": "stream",
     "text": [
      "{'what': 'saveparquet', 'package': 'pandas', 'time': 4548.06113243103}\n",
      "{'what': 'loadparquet', 'package': 'pandas', 'time': 1525.0792503356934}\n"
     ]
    }
   ],
   "source": [
    "file_path = 'dfpd.parquet'\n",
    "\n",
    "\n",
    "#### save \n",
    "start_time = time.time()\n",
    "\n",
    "dfpd.to_parquet(file_path, engine='pyarrow') \n",
    "\n",
    "deltime = (time.time() - start_time)  * 1_000  #ms\n",
    "res={\n",
    "\"what\":\"saveparquet\",\n",
    "\"package\":\"pandas\",\n",
    "\"time\": deltime\n",
    "}\n",
    "bench.append(res)\n",
    "print(res)\n",
    "\n",
    "#### load \n",
    "start_time = time.time()\n",
    "\n",
    "_ = pd.read_parquet(file_path, engine='pyarrow') \n",
    "\n",
    "deltime = (time.time() - start_time)  * 1_000  #ms\n",
    "res={\n",
    "\"what\":\"loadparquet\",\n",
    "\"package\":\"pandas\",\n",
    "\"time\": deltime\n",
    "}\n",
    "bench.append(res)\n",
    "print(res)\n",
    "# delte file \n",
    "import os \n",
    "del(_)\n",
    "os.remove(file_path)"
   ]
  },
  {
   "cell_type": "code",
   "execution_count": 15,
   "id": "27e4640a-83af-4d96-8315-eba839a2245f",
   "metadata": {},
   "outputs": [
    {
     "name": "stdout",
     "output_type": "stream",
     "text": [
      "{'what': 'saveparquet', 'package': 'polars', 'time': 2845.5891609191895}\n",
      "{'what': 'loadparquet', 'package': 'polars', 'time': 1058.760166168213}\n"
     ]
    }
   ],
   "source": [
    "file_path = 'dfpl.parquet'\n",
    "\n",
    "# Save\n",
    "start_time = time.time()\n",
    "dfpl.write_parquet(file_path)\n",
    "deltime = (time.time() - start_time) * 1_000  # ms\n",
    "res = {\n",
    "    \"what\": \"saveparquet\",\n",
    "    \"package\": \"polars\",\n",
    "    \"time\": deltime\n",
    "}\n",
    "bench.append(res)\n",
    "print(res)\n",
    "\n",
    "# Load \n",
    "start_time = time.time()\n",
    "_ = pl.read_parquet(file_path)\n",
    "deltime = (time.time() - start_time) * 1_000  # ms\n",
    "res = {\n",
    "    \"what\": \"loadparquet\",\n",
    "    \"package\": \"polars\",\n",
    "    \"time\": deltime\n",
    "}\n",
    "bench.append(res)\n",
    "print(res)\n",
    "\n",
    "# Delete\n",
    "del(_)\n",
    "os.remove(file_path)"
   ]
  },
  {
   "cell_type": "code",
   "execution_count": 16,
   "id": "08909de2-68f4-4b11-aac9-104630606cd6",
   "metadata": {},
   "outputs": [
    {
     "name": "stdout",
     "output_type": "stream",
     "text": [
      "{'what': 'saveparquet', 'package': 'dask', 'time': 3289.6690368652344}\n",
      "{'what': 'loadparquet', 'package': 'dask', 'time': 36.54217720031738}\n"
     ]
    }
   ],
   "source": [
    "file_path = 'dfdd.parquet'\n",
    "\n",
    "# Save \n",
    "start_time = time.time()\n",
    "dfdd.to_parquet(file_path, engine='pyarrow')\n",
    "deltime = (time.time() - start_time) * 1_000  # ms\n",
    "res = {\n",
    "    \"what\": \"saveparquet\",\n",
    "    \"package\": \"dask\",\n",
    "    \"time\": deltime\n",
    "}\n",
    "bench.append(res)\n",
    "print(res)\n",
    "\n",
    "# Load\n",
    "start_time = time.time()\n",
    "_ = dd.read_parquet(file_path, engine='pyarrow')\n",
    "deltime = (time.time() - start_time) * 1_000  # ms\n",
    "res = {\n",
    "    \"what\": \"loadparquet\",\n",
    "    \"package\": \"dask\",\n",
    "    \"time\": deltime\n",
    "}\n",
    "bench.append(res)\n",
    "print(res)\n",
    "\n",
    "# Delete \n",
    "del(_)\n",
    "import shutil\n",
    "shutil.rmtree(file_path)"
   ]
  },
  {
   "cell_type": "code",
   "execution_count": null,
   "id": "1fa09a85-22f6-4bbe-b497-d68086bde668",
   "metadata": {},
   "outputs": [],
   "source": []
  },
  {
   "cell_type": "markdown",
   "id": "90387ec7-4e44-4734-bd0b-c4d29be9ad6f",
   "metadata": {},
   "source": [
    "## Agg"
   ]
  },
  {
   "cell_type": "code",
   "execution_count": 17,
   "id": "450557a1-86c5-4332-8de3-705b7d9b8676",
   "metadata": {},
   "outputs": [
    {
     "name": "stdout",
     "output_type": "stream",
     "text": [
      "{'what': 'agg_sum', 'package': 'pandas', 'time': 1005.2540302276611}\n"
     ]
    }
   ],
   "source": [
    "start_time = time.time()\n",
    "\n",
    "_= dfpd.sum()\n",
    "\n",
    "deltime = (time.time() - start_time)  * 1_000  #ms\n",
    "\n",
    "res={\n",
    "\"what\":\"agg_sum\",\n",
    "\"package\":\"pandas\",\n",
    "\"time\": deltime\n",
    "}\n",
    "\n",
    "bench.append(res)\n",
    "print(res)"
   ]
  },
  {
   "cell_type": "code",
   "execution_count": 18,
   "id": "2205bafa-ba11-4ec7-95d3-e3f0305d9743",
   "metadata": {},
   "outputs": [
    {
     "name": "stdout",
     "output_type": "stream",
     "text": [
      "{'what': 'agg_sum', 'package': 'dask', 'time': 6.654977798461914}\n"
     ]
    }
   ],
   "source": [
    "start_time = time.time()\n",
    "\n",
    "_= dfdd.sum()\n",
    "\n",
    "deltime = (time.time() - start_time)  * 1_000 #ms\n",
    "\n",
    "res={\n",
    "\"what\":\"agg_sum\",\n",
    "\"package\":\"dask\",\n",
    "\"time\": deltime\n",
    "}\n",
    "\n",
    "bench.append(res)\n",
    "print(res)"
   ]
  },
  {
   "cell_type": "code",
   "execution_count": 19,
   "id": "8d0948ea-f02f-4cfb-b58c-3358e84be481",
   "metadata": {},
   "outputs": [
    {
     "name": "stdout",
     "output_type": "stream",
     "text": [
      "{'what': 'agg_sum', 'package': 'polars', 'time': 35.61878204345703}\n"
     ]
    }
   ],
   "source": [
    "start_time = time.time()\n",
    "\n",
    "_= dfpl.sum()\n",
    "\n",
    "deltime = (time.time() - start_time)  * 1_000 #ms\n",
    "\n",
    "res={\n",
    "\"what\":\"agg_sum\",\n",
    "\"package\":\"polars\",\n",
    "\"time\": deltime\n",
    "}\n",
    "\n",
    "bench.append(res)\n",
    "print(res)"
   ]
  },
  {
   "cell_type": "markdown",
   "id": "00ec866f-1243-4640-b070-122f950abdbe",
   "metadata": {},
   "source": [
    "## Group By "
   ]
  },
  {
   "cell_type": "code",
   "execution_count": 20,
   "id": "94b167b9-a91d-477a-9d70-01ed76af0d4c",
   "metadata": {},
   "outputs": [
    {
     "name": "stdout",
     "output_type": "stream",
     "text": [
      "{'what': 'groupby_mean', 'package': 'pandas', 'time': 743.3836460113525}\n"
     ]
    }
   ],
   "source": [
    "start_time = time.time()\n",
    "\n",
    "dfpdgroupby = dfpd.groupby(\"colint\").mean()\n",
    "\n",
    "deltime = (time.time() - start_time)  * 1_000  #ms\n",
    "\n",
    "res={\n",
    "\"what\":\"groupby_mean\",\n",
    "\"package\":\"pandas\",\n",
    "\"time\": deltime\n",
    "}\n",
    "\n",
    "bench.append(res)\n",
    "print(res)"
   ]
  },
  {
   "cell_type": "code",
   "execution_count": 21,
   "id": "b3261822-0ecf-47f7-814b-d72689c48eaf",
   "metadata": {},
   "outputs": [
    {
     "name": "stdout",
     "output_type": "stream",
     "text": [
      "{'what': 'groupby_mean', 'package': 'dask', 'time': 508.34155082702637}\n"
     ]
    }
   ],
   "source": [
    "start_time = time.time()\n",
    "\n",
    "dfddgroupby = dfdd.groupby(\"colint\").mean().compute()\n",
    "\n",
    "deltime = (time.time() - start_time)  * 1_000  #ms\n",
    "\n",
    "res={\n",
    "\"what\":\"groupby_mean\",\n",
    "\"package\":\"dask\",\n",
    "\"time\": deltime\n",
    "}\n",
    "\n",
    "bench.append(res)\n",
    "print(res)"
   ]
  },
  {
   "cell_type": "code",
   "execution_count": 22,
   "id": "0b0a3d92-8c65-4e02-8959-2b1a3a5c4753",
   "metadata": {},
   "outputs": [
    {
     "name": "stdout",
     "output_type": "stream",
     "text": [
      "{'what': 'groupby_mean', 'package': 'polars', 'time': 341.7620658874512}\n"
     ]
    }
   ],
   "source": [
    "start_time = time.time()\n",
    "\n",
    "dfplgroupby = dfpl.group_by(\"colint\").mean()\n",
    "\n",
    "deltime = (time.time() - start_time)  * 1_000  #ms\n",
    "\n",
    "res={\n",
    "\"what\":\"groupby_mean\",\n",
    "\"package\":\"polars\",\n",
    "\"time\": deltime\n",
    "}\n",
    "\n",
    "bench.append(res)\n",
    "print(res)"
   ]
  },
  {
   "cell_type": "markdown",
   "id": "1427619d-5f38-42a1-a604-fada464f7bca",
   "metadata": {},
   "source": [
    "## Sub df and sort values"
   ]
  },
  {
   "cell_type": "code",
   "execution_count": 23,
   "id": "66cc53e2-2813-443c-a69e-f48b4458ab46",
   "metadata": {},
   "outputs": [
    {
     "name": "stdout",
     "output_type": "stream",
     "text": [
      "{'what': 'sort_values', 'package': 'pandas', 'time': 2972.8269577026367}\n"
     ]
    }
   ],
   "source": [
    "start_time = time.time()\n",
    "\n",
    "tab2= dfpd[[\"a\",\"colint\"]].rename(columns  ={\"a\":\"a2\"})\n",
    "tab2[\"a2\"]=tab2[\"a2\"]*10\n",
    "tab2pd = tab2.sort_values(\"a2\")\n",
    "\n",
    "\n",
    "deltime = (time.time() - start_time)  * 1_000  #ms\n",
    "\n",
    "res={\n",
    "\"what\":\"sort_values\",\n",
    "\"package\":\"pandas\",\n",
    "\"time\": deltime\n",
    "}\n",
    "\n",
    "bench.append(res)\n",
    "print(res)"
   ]
  },
  {
   "cell_type": "code",
   "execution_count": null,
   "id": "a1af4b1e-4e58-466b-8b7a-3ab0275b6c2c",
   "metadata": {},
   "outputs": [],
   "source": []
  },
  {
   "cell_type": "code",
   "execution_count": 24,
   "id": "e1806964-a4d9-4ee7-ac92-55d3c62ebc37",
   "metadata": {},
   "outputs": [
    {
     "name": "stdout",
     "output_type": "stream",
     "text": [
      "{'what': 'sort_values', 'package': 'dask', 'time': 23.90456199645996}\n"
     ]
    }
   ],
   "source": [
    "start_time = time.time()\n",
    "\n",
    "tab2= dfdd[[\"a\",\"colint\"]].rename(columns  ={\"a\":\"a2\"})\n",
    "tab2[\"a2\"]=tab2[\"a2\"]*10\n",
    "tab2dd = tab2.sort_values(\"a2\")\n",
    "\n",
    "\n",
    "deltime = (time.time() - start_time)  * 1_000  #ms\n",
    "\n",
    "res={\n",
    "\"what\":\"sort_values\",\n",
    "\"package\":\"dask\",\n",
    "\"time\": deltime\n",
    "}\n",
    "\n",
    "bench.append(res)\n",
    "print(res)"
   ]
  },
  {
   "cell_type": "code",
   "execution_count": null,
   "id": "a3b03a16-3f7e-4930-b7b6-3ead82d71201",
   "metadata": {},
   "outputs": [],
   "source": []
  },
  {
   "cell_type": "code",
   "execution_count": 25,
   "id": "ad505700-9c02-4636-b577-bb31f23e957d",
   "metadata": {},
   "outputs": [
    {
     "name": "stdout",
     "output_type": "stream",
     "text": [
      "{'what': 'sort_values', 'package': 'polars', 'time': 3143.214702606201}\n"
     ]
    }
   ],
   "source": [
    "start_time = time.time()\n",
    "\n",
    "\n",
    "tab2= dfpl[[\"a\",\"colint\"]].rename({\"a\":\"a2\"})\n",
    "tab2 = tab2.with_columns((tab2[\"a2\"] * 10).alias(\"a2\"))\n",
    "tab2pl = tab2.sort(\"a2\")\n",
    "\n",
    "\n",
    "deltime = (time.time() - start_time)  * 1_000  #ms\n",
    "\n",
    "res={\n",
    "\"what\":\"sort_values\",\n",
    "\"package\":\"polars\",\n",
    "\"time\": deltime\n",
    "}\n",
    "\n",
    "bench.append(res)\n",
    "print(res)"
   ]
  },
  {
   "cell_type": "markdown",
   "id": "f2680b98-5807-4807-ae20-3009dbcdde13",
   "metadata": {},
   "source": [
    "## Left join"
   ]
  },
  {
   "cell_type": "markdown",
   "id": "510c613d-6197-4ebe-b03e-bfdc2a8e962c",
   "metadata": {},
   "source": [
    "**join vs merge in pandas** <br>\n",
    "| Feature              | `merge()`                                | `join()`                               |\n",
    "|----------------------|------------------------------------------|----------------------------------------|\n",
    "| **Primary Use**       | Joins DataFrames based on columns.       | Joins DataFrames based on index or column. |\n",
    "| **Join Keys**         | Can join on columns with different names (`left_on` and `right_on`). | Primarily uses indexes by default, but can join on columns if set as the index. |\n",
    "| **Flexibility**       | More flexible with column-based joins, and supports multiple columns. | Simpler, mainly designed for index-based joins. |\n",
    "| **Syntax Complexity** | More complex syntax with more options.   | Simpler, especially for index-based joins. |\n",
    "| **Common Use Case**   | SQL-style joins where you specify columns explicitly. | Join DataFrames when you want to join based on index (or set a column as index). |\n"
   ]
  },
  {
   "cell_type": "raw",
   "id": "6e47997f-c6ff-40fc-9bfa-c87a4ef61003",
   "metadata": {},
   "source": [
    "%%time \n",
    "dfpdjoin = dfpd.merge(dfpdgroupby , how=\"right\", on=\"colint\")"
   ]
  },
  {
   "cell_type": "raw",
   "id": "757ed93d-d549-4c93-8cbd-8419e40e096f",
   "metadata": {},
   "source": [
    "dfpdgroupby2= dfpdgroupby .rename ({x:x+\"_\" for x in ['a', 'b', 'c', 'd', 'e']}, \n",
    "                    axis =1)"
   ]
  },
  {
   "cell_type": "raw",
   "id": "1f980b34-7d30-46bb-8d78-1ac8e87231d7",
   "metadata": {},
   "source": [
    "%%time \n",
    "dfpdjoin = dfpd.join(dfpdgroupby2 , how=\"right\", on=\"colint\")\n",
    "# kernel died each time "
   ]
  },
  {
   "cell_type": "code",
   "execution_count": null,
   "id": "2e06c865-437b-4466-8752-7b75f2119393",
   "metadata": {},
   "outputs": [],
   "source": [
    "start_time = time.time()\n",
    "\n",
    "\n",
    "dfpdjoin = dfpd.merge(dfpdgroupby , how=\"right\", on=\"colint\")\n",
    "\n",
    "\n",
    "deltime = (time.time() - start_time)  * 1_000  #ms\n",
    "\n",
    "res={\n",
    "\"what\":\"left_join\",\n",
    "\"package\":\"pandas\",\n",
    "\"time\": deltime\n",
    "}\n",
    "\n",
    "bench.append(res)\n",
    "print(res)"
   ]
  },
  {
   "cell_type": "code",
   "execution_count": null,
   "id": "4a678f98-99f6-4cbe-ba9e-b3b655b1e1f1",
   "metadata": {},
   "outputs": [],
   "source": [
    "start_time = time.time()\n",
    "\n",
    "\n",
    "dfddjoin = dfdd.merge(dfddgroupby , how=\"right\", on=\"colint\")\n",
    "\n",
    "\n",
    "deltime = (time.time() - start_time)  * 1_000  #ms\n",
    "\n",
    "res={\n",
    "\"what\":\"left_join\",\n",
    "\"package\":\"dask\",\n",
    "\"time\": deltime\n",
    "}\n",
    "\n",
    "bench.append(res)\n",
    "print(res)"
   ]
  },
  {
   "cell_type": "code",
   "execution_count": null,
   "id": "9ee3c7df-aaf6-4ba5-91df-2e42ecf6aecb",
   "metadata": {},
   "outputs": [],
   "source": [
    "start_time = time.time()\n",
    "\n",
    "\n",
    "dfpljoin = dfpl.join(dfplgroupby , how=\"right\", on=\"colint\")\n",
    "\n",
    "\n",
    "\n",
    "deltime = (time.time() - start_time)  * 1_000  #ms\n",
    "\n",
    "res={\n",
    "\"what\":\"left_join\",\n",
    "\"package\":\"polars\",\n",
    "\"time\": deltime\n",
    "}\n",
    "\n",
    "bench.append(res)\n",
    "print(res)"
   ]
  },
  {
   "cell_type": "markdown",
   "id": "ac0a0368-eec5-4570-a402-dfac9ac67d74",
   "metadata": {},
   "source": [
    "## Result"
   ]
  },
  {
   "cell_type": "code",
   "execution_count": null,
   "id": "756a107e-0c05-4776-9a49-120fc8645e73",
   "metadata": {},
   "outputs": [],
   "source": [
    "import seaborn as sns\n",
    "import matplotlib.pyplot as plt\n",
    "res = pd.DataFrame(bench)\n",
    "res =res.sort_values(\"time\")\n",
    "res[\"sort\"]= res.package.map({'dask':3, 'polars':2, 'pandas':1})\n",
    "res=res.sort_values(\"sort\")\n",
    "sns.barplot(data= res, x= \"what\", y= \"time\", hue=\"package\", width =0.5) \n",
    "plt.yscale(\"log\")"
   ]
  },
  {
   "cell_type": "code",
   "execution_count": null,
   "id": "8ad623eb-9324-4d49-8e3e-f0b5249cf6f8",
   "metadata": {},
   "outputs": [],
   "source": []
  },
  {
   "cell_type": "code",
   "execution_count": null,
   "id": "6de8b42c-d49f-4f6f-a0b4-938628369809",
   "metadata": {},
   "outputs": [],
   "source": []
  },
  {
   "cell_type": "code",
   "execution_count": null,
   "id": "b7f73d15-83f1-4253-b0a4-42d37e8c74c8",
   "metadata": {},
   "outputs": [],
   "source": []
  },
  {
   "cell_type": "code",
   "execution_count": null,
   "id": "2834beb2-f328-4d49-8c61-dbc88a942ac1",
   "metadata": {},
   "outputs": [],
   "source": []
  },
  {
   "cell_type": "code",
   "execution_count": null,
   "id": "cc0fea99-328e-424d-b50f-a2c77530e087",
   "metadata": {},
   "outputs": [],
   "source": []
  },
  {
   "cell_type": "code",
   "execution_count": null,
   "id": "b74ba339-480b-4d13-b782-4c031b9aa174",
   "metadata": {},
   "outputs": [],
   "source": []
  },
  {
   "cell_type": "code",
   "execution_count": null,
   "id": "7b6f0806-3db8-48f5-820b-bb59f55b297d",
   "metadata": {},
   "outputs": [],
   "source": []
  },
  {
   "cell_type": "code",
   "execution_count": null,
   "id": "73f8a58b-30fd-42a9-beae-fbc2afcf0b95",
   "metadata": {},
   "outputs": [],
   "source": []
  },
  {
   "cell_type": "code",
   "execution_count": null,
   "id": "2bd6e207-48a5-47c5-b2a3-43f890a8bd29",
   "metadata": {},
   "outputs": [],
   "source": []
  },
  {
   "cell_type": "code",
   "execution_count": null,
   "id": "3d967c87-4cd2-460f-a6b0-6bde8faa30a3",
   "metadata": {},
   "outputs": [],
   "source": []
  },
  {
   "cell_type": "code",
   "execution_count": null,
   "id": "970c2f01-b66d-4322-84a2-9ee2cada80b8",
   "metadata": {},
   "outputs": [],
   "source": []
  },
  {
   "cell_type": "code",
   "execution_count": null,
   "id": "b8b61fbb-e7aa-4684-8bcb-fcb34ed82aeb",
   "metadata": {},
   "outputs": [],
   "source": []
  },
  {
   "cell_type": "code",
   "execution_count": null,
   "id": "0496d244-6181-4e09-b2df-3ab871b649ea",
   "metadata": {},
   "outputs": [],
   "source": []
  },
  {
   "cell_type": "code",
   "execution_count": null,
   "id": "a8babb2d-d8e8-4aea-a3d7-9c55264ff6c6",
   "metadata": {},
   "outputs": [],
   "source": []
  },
  {
   "cell_type": "code",
   "execution_count": null,
   "id": "48ba5f5a-4ec7-4ba3-acd8-f549a58189c4",
   "metadata": {},
   "outputs": [],
   "source": []
  },
  {
   "cell_type": "code",
   "execution_count": null,
   "id": "49b5ada5-7b58-4ebf-9158-f956754cc46e",
   "metadata": {},
   "outputs": [],
   "source": []
  },
  {
   "cell_type": "code",
   "execution_count": null,
   "id": "b067a2a6-5caf-4423-b56f-6a3d0951478e",
   "metadata": {},
   "outputs": [],
   "source": []
  },
  {
   "cell_type": "code",
   "execution_count": null,
   "id": "53ba7330-2dce-4370-a3c3-cff1a5dcbeef",
   "metadata": {},
   "outputs": [],
   "source": []
  },
  {
   "cell_type": "code",
   "execution_count": null,
   "id": "8ee3f8f2-e48b-4d9e-a856-cda1c16c7b3f",
   "metadata": {},
   "outputs": [],
   "source": []
  },
  {
   "cell_type": "code",
   "execution_count": null,
   "id": "70ef25ee-19a1-41bc-ae1b-8df19c8827fc",
   "metadata": {},
   "outputs": [],
   "source": []
  },
  {
   "cell_type": "code",
   "execution_count": null,
   "id": "0defb4d0-2119-4f20-a46e-00bcdb4ce4e2",
   "metadata": {},
   "outputs": [],
   "source": []
  },
  {
   "cell_type": "code",
   "execution_count": null,
   "id": "cab1e135-8ecc-4ffb-8ebe-c55d68c801c5",
   "metadata": {},
   "outputs": [],
   "source": []
  },
  {
   "cell_type": "code",
   "execution_count": null,
   "id": "6dcfe9b1-1ee2-4d03-920a-2a9b65452feb",
   "metadata": {},
   "outputs": [],
   "source": []
  },
  {
   "cell_type": "code",
   "execution_count": null,
   "id": "2e21788c-e7e3-4d96-a433-2552a1a9b1ab",
   "metadata": {},
   "outputs": [],
   "source": []
  },
  {
   "cell_type": "code",
   "execution_count": null,
   "id": "b2706fdb-c5dd-46dc-bfa6-324624353218",
   "metadata": {},
   "outputs": [],
   "source": []
  },
  {
   "cell_type": "code",
   "execution_count": null,
   "id": "19f85f52-cf38-469e-bbe9-697935db2914",
   "metadata": {},
   "outputs": [],
   "source": []
  },
  {
   "cell_type": "code",
   "execution_count": null,
   "id": "75eed285-31ff-4107-b841-4ab04f104614",
   "metadata": {},
   "outputs": [],
   "source": []
  },
  {
   "cell_type": "code",
   "execution_count": null,
   "id": "f2d773b1-4d53-499d-9871-67014b1aaa4e",
   "metadata": {},
   "outputs": [],
   "source": []
  },
  {
   "cell_type": "code",
   "execution_count": null,
   "id": "ceb09f44-0ea6-4d91-ad7e-72c38cc2fa05",
   "metadata": {},
   "outputs": [],
   "source": []
  },
  {
   "cell_type": "code",
   "execution_count": null,
   "id": "c8a20486-c3e4-4bc0-8299-e43a576e1e6a",
   "metadata": {},
   "outputs": [],
   "source": []
  },
  {
   "cell_type": "code",
   "execution_count": null,
   "id": "78ac567b-ce42-48bc-900b-7a6590639176",
   "metadata": {},
   "outputs": [],
   "source": []
  },
  {
   "cell_type": "code",
   "execution_count": null,
   "id": "8ed51c5f-b799-4c01-8559-ddfd6aab1a17",
   "metadata": {},
   "outputs": [],
   "source": []
  },
  {
   "cell_type": "code",
   "execution_count": null,
   "id": "480d8c8f-ad93-44d1-99a7-343964a73f72",
   "metadata": {},
   "outputs": [],
   "source": []
  },
  {
   "cell_type": "code",
   "execution_count": null,
   "id": "0cdd372c-6205-41a9-893f-9db5c3643d11",
   "metadata": {},
   "outputs": [],
   "source": []
  },
  {
   "cell_type": "code",
   "execution_count": null,
   "id": "79174282-d734-43b8-9193-f21c39726342",
   "metadata": {},
   "outputs": [],
   "source": []
  },
  {
   "cell_type": "code",
   "execution_count": null,
   "id": "9192337b-602c-48d2-9f92-4cb8573fc2a8",
   "metadata": {},
   "outputs": [],
   "source": []
  },
  {
   "cell_type": "code",
   "execution_count": null,
   "id": "b9d6e827-58db-4bc8-8113-4b0e6ef8f035",
   "metadata": {},
   "outputs": [],
   "source": []
  }
 ],
 "metadata": {
  "kernelspec": {
   "display_name": "Python 3 (ipykernel)",
   "language": "python",
   "name": "python3"
  },
  "language_info": {
   "codemirror_mode": {
    "name": "ipython",
    "version": 3
   },
   "file_extension": ".py",
   "mimetype": "text/x-python",
   "name": "python",
   "nbconvert_exporter": "python",
   "pygments_lexer": "ipython3",
   "version": "3.12.7"
  }
 },
 "nbformat": 4,
 "nbformat_minor": 5
}
