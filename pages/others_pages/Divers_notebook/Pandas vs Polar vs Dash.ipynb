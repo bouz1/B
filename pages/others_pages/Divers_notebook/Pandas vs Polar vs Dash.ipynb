{
 "cells": [
  {
   "cell_type": "markdown",
   "id": "cc42d51f-8e6f-4a7a-b23f-8fced16a65f8",
   "metadata": {},
   "source": [
    "<h1 style=\"text-align: center;\">Benchmark Pandas vs Polar vs Dask</h1>\n"
   ]
  },
  {
   "cell_type": "markdown",
   "id": "ccd6b496-436c-4582-a73c-f4aa385c1be9",
   "metadata": {},
   "source": [
    "# Make dataFrame"
   ]
  },
  {
   "cell_type": "raw",
   "id": "b7d16bb1-b0f9-4a1f-a334-afe86768feb4",
   "metadata": {},
   "source": [
    "!pip install dask==2025.2.0 "
   ]
  },
  {
   "cell_type": "raw",
   "id": "66bf801a-20af-432d-be8a-dc34fb582095",
   "metadata": {},
   "source": [
    "!pip install polars==1.22.0 "
   ]
  },
  {
   "cell_type": "raw",
   "id": "89cb425d-a7b0-4012-b809-de6acb7cffa5",
   "metadata": {},
   "source": [
    "!pip install pandas==2.0.3"
   ]
  },
  {
   "cell_type": "raw",
   "id": "951e3c50-0dcd-4cb4-a409-d6b6d9496d0d",
   "metadata": {},
   "source": [
    "!pip install --no-cache-dir pyarrow==14.0.1\n",
    "# dependency of dask.dataframe"
   ]
  },
  {
   "cell_type": "raw",
   "id": "15a713f1-5f2f-4340-bfe5-64b1a18de985",
   "metadata": {},
   "source": [
    "!pip install numpy==1.26.4"
   ]
  },
  {
   "cell_type": "code",
   "execution_count": 1,
   "id": "48db54e0-8d0a-4671-b247-db4b09e098b0",
   "metadata": {},
   "outputs": [],
   "source": [
    "import time"
   ]
  },
  {
   "cell_type": "code",
   "execution_count": 2,
   "id": "01f38b95-979c-4c66-be5b-04f91b28e351",
   "metadata": {},
   "outputs": [
    {
     "name": "stdout",
     "output_type": "stream",
     "text": [
      "shape (10000000, 6)\n",
      "457.8 MB\n"
     ]
    }
   ],
   "source": [
    "import numpy as np\n",
    "\n",
    "M,N=10000000,5\n",
    "arr = np.random.uniform(-1, 1, size=(M, N))\n",
    "colsint= np.random.randint(0,100,(M,1))\n",
    "arr2=np.concatenate((arr, colsint), axis=1).astype(\"float64\")\n",
    "print(\"shape\",arr2.shape)\n",
    "print(round((M*(N+1)*64/8)/(1024*1024), 1),\"MB\")"
   ]
  },
  {
   "cell_type": "code",
   "execution_count": 3,
   "id": "a459509e-4334-45f0-949e-24a0c5daa447",
   "metadata": {},
   "outputs": [
    {
     "name": "stdout",
     "output_type": "stream",
     "text": [
      "<class 'pandas.core.frame.DataFrame'>\n",
      "RangeIndex: 10000000 entries, 0 to 9999999\n",
      "Data columns (total 6 columns):\n",
      " #   Column  Dtype  \n",
      "---  ------  -----  \n",
      " 0   a       float64\n",
      " 1   b       float64\n",
      " 2   c       float64\n",
      " 3   d       float64\n",
      " 4   e       float64\n",
      " 5   colint  float64\n",
      "dtypes: float64(6)\n",
      "memory usage: 457.8 MB\n"
     ]
    }
   ],
   "source": [
    "import pandas as pd\n",
    "dfpd = pd.DataFrame(arr2, columns=[\"a\",\"b\",\"c\",\"d\",\"e\",\"colint\"])\n",
    "dfpd.info()"
   ]
  },
  {
   "cell_type": "code",
   "execution_count": 4,
   "id": "8cc490b8-d83d-4d8a-bdf1-8297868dda84",
   "metadata": {},
   "outputs": [
    {
     "data": {
      "text/html": [
       "<div>\n",
       "<style scoped>\n",
       "    .dataframe tbody tr th:only-of-type {\n",
       "        vertical-align: middle;\n",
       "    }\n",
       "\n",
       "    .dataframe tbody tr th {\n",
       "        vertical-align: top;\n",
       "    }\n",
       "\n",
       "    .dataframe thead th {\n",
       "        text-align: right;\n",
       "    }\n",
       "</style>\n",
       "<table border=\"1\" class=\"dataframe\">\n",
       "  <thead>\n",
       "    <tr style=\"text-align: right;\">\n",
       "      <th></th>\n",
       "      <th>a</th>\n",
       "      <th>b</th>\n",
       "      <th>c</th>\n",
       "      <th>d</th>\n",
       "      <th>e</th>\n",
       "      <th>colint</th>\n",
       "    </tr>\n",
       "  </thead>\n",
       "  <tbody>\n",
       "    <tr>\n",
       "      <th>0</th>\n",
       "      <td>-0.565588</td>\n",
       "      <td>0.188080</td>\n",
       "      <td>-0.604835</td>\n",
       "      <td>0.810952</td>\n",
       "      <td>0.020947</td>\n",
       "      <td>24.0</td>\n",
       "    </tr>\n",
       "    <tr>\n",
       "      <th>1</th>\n",
       "      <td>0.017615</td>\n",
       "      <td>-0.472792</td>\n",
       "      <td>-0.489760</td>\n",
       "      <td>-0.977290</td>\n",
       "      <td>-0.746440</td>\n",
       "      <td>35.0</td>\n",
       "    </tr>\n",
       "    <tr>\n",
       "      <th>2</th>\n",
       "      <td>-0.307249</td>\n",
       "      <td>-0.028380</td>\n",
       "      <td>0.066513</td>\n",
       "      <td>0.668759</td>\n",
       "      <td>-0.980749</td>\n",
       "      <td>98.0</td>\n",
       "    </tr>\n",
       "    <tr>\n",
       "      <th>3</th>\n",
       "      <td>0.817180</td>\n",
       "      <td>-0.350454</td>\n",
       "      <td>-0.585490</td>\n",
       "      <td>-0.794863</td>\n",
       "      <td>0.560024</td>\n",
       "      <td>98.0</td>\n",
       "    </tr>\n",
       "    <tr>\n",
       "      <th>4</th>\n",
       "      <td>-0.949001</td>\n",
       "      <td>0.448160</td>\n",
       "      <td>-0.234075</td>\n",
       "      <td>-0.908258</td>\n",
       "      <td>-0.733441</td>\n",
       "      <td>87.0</td>\n",
       "    </tr>\n",
       "  </tbody>\n",
       "</table>\n",
       "</div>"
      ],
      "text/plain": [
       "          a         b         c         d         e  colint\n",
       "0 -0.565588  0.188080 -0.604835  0.810952  0.020947    24.0\n",
       "1  0.017615 -0.472792 -0.489760 -0.977290 -0.746440    35.0\n",
       "2 -0.307249 -0.028380  0.066513  0.668759 -0.980749    98.0\n",
       "3  0.817180 -0.350454 -0.585490 -0.794863  0.560024    98.0\n",
       "4 -0.949001  0.448160 -0.234075 -0.908258 -0.733441    87.0"
      ]
     },
     "execution_count": 4,
     "metadata": {},
     "output_type": "execute_result"
    }
   ],
   "source": [
    "dfpd.head()"
   ]
  },
  {
   "cell_type": "code",
   "execution_count": 5,
   "id": "bd3164c3-d996-4c0e-8007-5cf0e5301e6e",
   "metadata": {},
   "outputs": [
    {
     "name": "stdout",
     "output_type": "stream",
     "text": [
      "<class 'dask.dataframe.dask_expr.DataFrame'>\n",
      "Columns: 6 entries, a to colint\n",
      "dtypes: float64(6)"
     ]
    }
   ],
   "source": [
    "import dask.dataframe as dd\n",
    "dfdd = dd.from_pandas(dfpd, npartitions=20)\n",
    "dfdd.info()"
   ]
  },
  {
   "cell_type": "code",
   "execution_count": 6,
   "id": "317d454f-f742-4159-9dd4-262ac6aff736",
   "metadata": {},
   "outputs": [
    {
     "data": {
      "text/html": [
       "<div>\n",
       "<style scoped>\n",
       "    .dataframe tbody tr th:only-of-type {\n",
       "        vertical-align: middle;\n",
       "    }\n",
       "\n",
       "    .dataframe tbody tr th {\n",
       "        vertical-align: top;\n",
       "    }\n",
       "\n",
       "    .dataframe thead th {\n",
       "        text-align: right;\n",
       "    }\n",
       "</style>\n",
       "<table border=\"1\" class=\"dataframe\">\n",
       "  <thead>\n",
       "    <tr style=\"text-align: right;\">\n",
       "      <th></th>\n",
       "      <th>a</th>\n",
       "      <th>b</th>\n",
       "      <th>c</th>\n",
       "      <th>d</th>\n",
       "      <th>e</th>\n",
       "      <th>colint</th>\n",
       "    </tr>\n",
       "  </thead>\n",
       "  <tbody>\n",
       "    <tr>\n",
       "      <th>0</th>\n",
       "      <td>-0.565588</td>\n",
       "      <td>0.188080</td>\n",
       "      <td>-0.604835</td>\n",
       "      <td>0.810952</td>\n",
       "      <td>0.020947</td>\n",
       "      <td>24.0</td>\n",
       "    </tr>\n",
       "    <tr>\n",
       "      <th>1</th>\n",
       "      <td>0.017615</td>\n",
       "      <td>-0.472792</td>\n",
       "      <td>-0.489760</td>\n",
       "      <td>-0.977290</td>\n",
       "      <td>-0.746440</td>\n",
       "      <td>35.0</td>\n",
       "    </tr>\n",
       "    <tr>\n",
       "      <th>2</th>\n",
       "      <td>-0.307249</td>\n",
       "      <td>-0.028380</td>\n",
       "      <td>0.066513</td>\n",
       "      <td>0.668759</td>\n",
       "      <td>-0.980749</td>\n",
       "      <td>98.0</td>\n",
       "    </tr>\n",
       "    <tr>\n",
       "      <th>3</th>\n",
       "      <td>0.817180</td>\n",
       "      <td>-0.350454</td>\n",
       "      <td>-0.585490</td>\n",
       "      <td>-0.794863</td>\n",
       "      <td>0.560024</td>\n",
       "      <td>98.0</td>\n",
       "    </tr>\n",
       "    <tr>\n",
       "      <th>4</th>\n",
       "      <td>-0.949001</td>\n",
       "      <td>0.448160</td>\n",
       "      <td>-0.234075</td>\n",
       "      <td>-0.908258</td>\n",
       "      <td>-0.733441</td>\n",
       "      <td>87.0</td>\n",
       "    </tr>\n",
       "  </tbody>\n",
       "</table>\n",
       "</div>"
      ],
      "text/plain": [
       "          a         b         c         d         e  colint\n",
       "0 -0.565588  0.188080 -0.604835  0.810952  0.020947    24.0\n",
       "1  0.017615 -0.472792 -0.489760 -0.977290 -0.746440    35.0\n",
       "2 -0.307249 -0.028380  0.066513  0.668759 -0.980749    98.0\n",
       "3  0.817180 -0.350454 -0.585490 -0.794863  0.560024    98.0\n",
       "4 -0.949001  0.448160 -0.234075 -0.908258 -0.733441    87.0"
      ]
     },
     "execution_count": 6,
     "metadata": {},
     "output_type": "execute_result"
    }
   ],
   "source": [
    "dfdd.head()"
   ]
  },
  {
   "cell_type": "code",
   "execution_count": 7,
   "id": "52c5269c-2042-4c5c-bfe2-6265822583a7",
   "metadata": {},
   "outputs": [],
   "source": [
    "import polars as pl\n",
    "dfpl = pl.DataFrame(dfpd)"
   ]
  },
  {
   "cell_type": "code",
   "execution_count": 8,
   "id": "8637a458-9d03-49c7-abd0-03f280437000",
   "metadata": {},
   "outputs": [
    {
     "data": {
      "text/html": [
       "<div><style>\n",
       ".dataframe > thead > tr,\n",
       ".dataframe > tbody > tr {\n",
       "  text-align: right;\n",
       "  white-space: pre-wrap;\n",
       "}\n",
       "</style>\n",
       "<small>shape: (5, 6)</small><table border=\"1\" class=\"dataframe\"><thead><tr><th>a</th><th>b</th><th>c</th><th>d</th><th>e</th><th>colint</th></tr><tr><td>f64</td><td>f64</td><td>f64</td><td>f64</td><td>f64</td><td>f64</td></tr></thead><tbody><tr><td>-0.565588</td><td>0.18808</td><td>-0.604835</td><td>0.810952</td><td>0.020947</td><td>24.0</td></tr><tr><td>0.017615</td><td>-0.472792</td><td>-0.48976</td><td>-0.97729</td><td>-0.74644</td><td>35.0</td></tr><tr><td>-0.307249</td><td>-0.02838</td><td>0.066513</td><td>0.668759</td><td>-0.980749</td><td>98.0</td></tr><tr><td>0.81718</td><td>-0.350454</td><td>-0.58549</td><td>-0.794863</td><td>0.560024</td><td>98.0</td></tr><tr><td>-0.949001</td><td>0.44816</td><td>-0.234075</td><td>-0.908258</td><td>-0.733441</td><td>87.0</td></tr></tbody></table></div>"
      ],
      "text/plain": [
       "shape: (5, 6)\n",
       "┌───────────┬───────────┬───────────┬───────────┬───────────┬────────┐\n",
       "│ a         ┆ b         ┆ c         ┆ d         ┆ e         ┆ colint │\n",
       "│ ---       ┆ ---       ┆ ---       ┆ ---       ┆ ---       ┆ ---    │\n",
       "│ f64       ┆ f64       ┆ f64       ┆ f64       ┆ f64       ┆ f64    │\n",
       "╞═══════════╪═══════════╪═══════════╪═══════════╪═══════════╪════════╡\n",
       "│ -0.565588 ┆ 0.18808   ┆ -0.604835 ┆ 0.810952  ┆ 0.020947  ┆ 24.0   │\n",
       "│ 0.017615  ┆ -0.472792 ┆ -0.48976  ┆ -0.97729  ┆ -0.74644  ┆ 35.0   │\n",
       "│ -0.307249 ┆ -0.02838  ┆ 0.066513  ┆ 0.668759  ┆ -0.980749 ┆ 98.0   │\n",
       "│ 0.81718   ┆ -0.350454 ┆ -0.58549  ┆ -0.794863 ┆ 0.560024  ┆ 98.0   │\n",
       "│ -0.949001 ┆ 0.44816   ┆ -0.234075 ┆ -0.908258 ┆ -0.733441 ┆ 87.0   │\n",
       "└───────────┴───────────┴───────────┴───────────┴───────────┴────────┘"
      ]
     },
     "execution_count": 8,
     "metadata": {},
     "output_type": "execute_result"
    }
   ],
   "source": [
    "dfpl.head()"
   ]
  },
  {
   "cell_type": "markdown",
   "id": "3d5efc2e-bd9d-449f-aa18-c089b28c0594",
   "metadata": {},
   "source": [
    "# Benchmark"
   ]
  },
  {
   "cell_type": "code",
   "execution_count": 9,
   "id": "dea0cfb8-7aea-4d92-9009-e59d7c4dea7a",
   "metadata": {},
   "outputs": [],
   "source": [
    "bench=[]"
   ]
  },
  {
   "cell_type": "markdown",
   "id": "06ceed72-6288-4837-a60f-6ccc9324f61d",
   "metadata": {},
   "source": [
    "## Save load parquet"
   ]
  },
  {
   "cell_type": "code",
   "execution_count": 10,
   "id": "9f0ef143-7e27-4694-886d-1b7f8239d561",
   "metadata": {},
   "outputs": [
    {
     "name": "stdout",
     "output_type": "stream",
     "text": [
      "{'what': 'saveparquet', 'package': 'pandas', 'time': 5929.890871047974}\n",
      "{'what': 'loadparquet', 'package': 'pandas', 'time': 968.9915180206299}\n"
     ]
    }
   ],
   "source": [
    "file_path = 'dfpd.parquet'\n",
    "\n",
    "\n",
    "#### save \n",
    "start_time = time.time()\n",
    "\n",
    "dfpd.to_parquet(file_path, engine='pyarrow') \n",
    "\n",
    "deltime = (time.time() - start_time)  * 1_000  #ms\n",
    "res={\n",
    "\"what\":\"saveparquet\",\n",
    "\"package\":\"pandas\",\n",
    "\"time\": deltime\n",
    "}\n",
    "bench.append(res)\n",
    "print(res)\n",
    "\n",
    "#### load \n",
    "start_time = time.time()\n",
    "\n",
    "_ = pd.read_parquet(file_path, engine='pyarrow') \n",
    "\n",
    "deltime = (time.time() - start_time)  * 1_000  #ms\n",
    "res={\n",
    "\"what\":\"loadparquet\",\n",
    "\"package\":\"pandas\",\n",
    "\"time\": deltime\n",
    "}\n",
    "bench.append(res)\n",
    "print(res)\n",
    "# delte file \n",
    "import os \n",
    "del(_)\n",
    "os.remove(file_path)"
   ]
  },
  {
   "cell_type": "code",
   "execution_count": 11,
   "id": "27e4640a-83af-4d96-8315-eba839a2245f",
   "metadata": {},
   "outputs": [
    {
     "name": "stdout",
     "output_type": "stream",
     "text": [
      "{'what': 'saveparquet', 'package': 'polars', 'time': 4887.706279754639}\n",
      "{'what': 'loadparquet', 'package': 'polars', 'time': 897.2001075744629}\n"
     ]
    }
   ],
   "source": [
    "file_path = 'dfpl.parquet'\n",
    "\n",
    "# Save\n",
    "start_time = time.time()\n",
    "dfpl.write_parquet(file_path)\n",
    "deltime = (time.time() - start_time) * 1_000  # ms\n",
    "res = {\n",
    "    \"what\": \"saveparquet\",\n",
    "    \"package\": \"polars\",\n",
    "    \"time\": deltime\n",
    "}\n",
    "bench.append(res)\n",
    "print(res)\n",
    "\n",
    "# Load \n",
    "start_time = time.time()\n",
    "_ = pl.read_parquet(file_path)\n",
    "deltime = (time.time() - start_time) * 1_000  # ms\n",
    "res = {\n",
    "    \"what\": \"loadparquet\",\n",
    "    \"package\": \"polars\",\n",
    "    \"time\": deltime\n",
    "}\n",
    "bench.append(res)\n",
    "print(res)\n",
    "\n",
    "# Delete\n",
    "del(_)\n",
    "os.remove(file_path)"
   ]
  },
  {
   "cell_type": "code",
   "execution_count": 12,
   "id": "08909de2-68f4-4b11-aac9-104630606cd6",
   "metadata": {},
   "outputs": [
    {
     "name": "stdout",
     "output_type": "stream",
     "text": [
      "{'what': 'saveparquet', 'package': 'dask', 'time': 3198.096990585327}\n",
      "{'what': 'loadparquet', 'package': 'dask', 'time': 57.28602409362793}\n"
     ]
    }
   ],
   "source": [
    "file_path = 'dfdd.parquet'\n",
    "\n",
    "# Save \n",
    "start_time = time.time()\n",
    "dfdd.to_parquet(file_path, engine='pyarrow')\n",
    "deltime = (time.time() - start_time) * 1_000  # ms\n",
    "res = {\n",
    "    \"what\": \"saveparquet\",\n",
    "    \"package\": \"dask\",\n",
    "    \"time\": deltime\n",
    "}\n",
    "bench.append(res)\n",
    "print(res)\n",
    "\n",
    "# Load\n",
    "start_time = time.time()\n",
    "_ = dd.read_parquet(file_path, engine='pyarrow')\n",
    "deltime = (time.time() - start_time) * 1_000  # ms\n",
    "res = {\n",
    "    \"what\": \"loadparquet\",\n",
    "    \"package\": \"dask\",\n",
    "    \"time\": deltime\n",
    "}\n",
    "bench.append(res)\n",
    "print(res)\n",
    "\n",
    "# Delete \n",
    "del(_)\n",
    "import shutil\n",
    "shutil.rmtree(file_path)"
   ]
  },
  {
   "cell_type": "code",
   "execution_count": null,
   "id": "1fa09a85-22f6-4bbe-b497-d68086bde668",
   "metadata": {},
   "outputs": [],
   "source": []
  },
  {
   "cell_type": "markdown",
   "id": "90387ec7-4e44-4734-bd0b-c4d29be9ad6f",
   "metadata": {},
   "source": [
    "## Agg"
   ]
  },
  {
   "cell_type": "code",
   "execution_count": 13,
   "id": "450557a1-86c5-4332-8de3-705b7d9b8676",
   "metadata": {},
   "outputs": [
    {
     "name": "stdout",
     "output_type": "stream",
     "text": [
      "{'what': 'agg_sum', 'package': 'pandas', 'time': 1372.3723888397217}\n"
     ]
    }
   ],
   "source": [
    "start_time = time.time()\n",
    "\n",
    "_= dfpd.sum()\n",
    "\n",
    "deltime = (time.time() - start_time)  * 1_000  #ms\n",
    "\n",
    "res={\n",
    "\"what\":\"agg_sum\",\n",
    "\"package\":\"pandas\",\n",
    "\"time\": deltime\n",
    "}\n",
    "\n",
    "bench.append(res)\n",
    "print(res)"
   ]
  },
  {
   "cell_type": "code",
   "execution_count": 14,
   "id": "2205bafa-ba11-4ec7-95d3-e3f0305d9743",
   "metadata": {},
   "outputs": [
    {
     "name": "stdout",
     "output_type": "stream",
     "text": [
      "{'what': 'agg_sum', 'package': 'dask', 'time': 11.806011199951172}\n"
     ]
    }
   ],
   "source": [
    "start_time = time.time()\n",
    "\n",
    "_= dfdd.sum()\n",
    "\n",
    "deltime = (time.time() - start_time)  * 1_000 #ms\n",
    "\n",
    "res={\n",
    "\"what\":\"agg_sum\",\n",
    "\"package\":\"dask\",\n",
    "\"time\": deltime\n",
    "}\n",
    "\n",
    "bench.append(res)\n",
    "print(res)"
   ]
  },
  {
   "cell_type": "code",
   "execution_count": 15,
   "id": "8d0948ea-f02f-4cfb-b58c-3358e84be481",
   "metadata": {},
   "outputs": [
    {
     "name": "stdout",
     "output_type": "stream",
     "text": [
      "{'what': 'agg_sum', 'package': 'polars', 'time': 26.842832565307617}\n"
     ]
    }
   ],
   "source": [
    "start_time = time.time()\n",
    "\n",
    "_= dfpl.sum()\n",
    "\n",
    "deltime = (time.time() - start_time)  * 1_000 #ms\n",
    "\n",
    "res={\n",
    "\"what\":\"agg_sum\",\n",
    "\"package\":\"polars\",\n",
    "\"time\": deltime\n",
    "}\n",
    "\n",
    "bench.append(res)\n",
    "print(res)"
   ]
  },
  {
   "cell_type": "markdown",
   "id": "00ec866f-1243-4640-b070-122f950abdbe",
   "metadata": {},
   "source": [
    "## Group By "
   ]
  },
  {
   "cell_type": "code",
   "execution_count": 16,
   "id": "94b167b9-a91d-477a-9d70-01ed76af0d4c",
   "metadata": {},
   "outputs": [
    {
     "name": "stdout",
     "output_type": "stream",
     "text": [
      "{'what': 'groupby_mean', 'package': 'pandas', 'time': 1391.1476135253906}\n"
     ]
    }
   ],
   "source": [
    "start_time = time.time()\n",
    "\n",
    "dfpdgroupby = dfpd.groupby(\"colint\").mean()\n",
    "\n",
    "deltime = (time.time() - start_time)  * 1_000  #ms\n",
    "\n",
    "res={\n",
    "\"what\":\"groupby_mean\",\n",
    "\"package\":\"pandas\",\n",
    "\"time\": deltime\n",
    "}\n",
    "\n",
    "bench.append(res)\n",
    "print(res)"
   ]
  },
  {
   "cell_type": "code",
   "execution_count": 17,
   "id": "b3261822-0ecf-47f7-814b-d72689c48eaf",
   "metadata": {},
   "outputs": [
    {
     "name": "stdout",
     "output_type": "stream",
     "text": [
      "{'what': 'groupby_mean', 'package': 'dask', 'time': 1011.9261741638184}\n"
     ]
    }
   ],
   "source": [
    "start_time = time.time()\n",
    "\n",
    "dfddgroupby = dfdd.groupby(\"colint\").mean().compute()\n",
    "\n",
    "deltime = (time.time() - start_time)  * 1_000  #ms\n",
    "\n",
    "res={\n",
    "\"what\":\"groupby_mean\",\n",
    "\"package\":\"dask\",\n",
    "\"time\": deltime\n",
    "}\n",
    "\n",
    "bench.append(res)\n",
    "print(res)"
   ]
  },
  {
   "cell_type": "code",
   "execution_count": 18,
   "id": "0b0a3d92-8c65-4e02-8959-2b1a3a5c4753",
   "metadata": {},
   "outputs": [
    {
     "name": "stdout",
     "output_type": "stream",
     "text": [
      "{'what': 'groupby_mean', 'package': 'polars', 'time': 310.1382255554199}\n"
     ]
    }
   ],
   "source": [
    "start_time = time.time()\n",
    "\n",
    "dfplgroupby = dfpl.group_by(\"colint\").mean()\n",
    "\n",
    "deltime = (time.time() - start_time)  * 1_000  #ms\n",
    "\n",
    "res={\n",
    "\"what\":\"groupby_mean\",\n",
    "\"package\":\"polars\",\n",
    "\"time\": deltime\n",
    "}\n",
    "\n",
    "bench.append(res)\n",
    "print(res)"
   ]
  },
  {
   "cell_type": "markdown",
   "id": "1427619d-5f38-42a1-a604-fada464f7bca",
   "metadata": {},
   "source": [
    "## Sub df and sort values"
   ]
  },
  {
   "cell_type": "code",
   "execution_count": 19,
   "id": "66cc53e2-2813-443c-a69e-f48b4458ab46",
   "metadata": {},
   "outputs": [
    {
     "name": "stdout",
     "output_type": "stream",
     "text": [
      "{'what': 'sort_values', 'package': 'pandas', 'time': 10040.702819824219}\n"
     ]
    }
   ],
   "source": [
    "start_time = time.time()\n",
    "\n",
    "tab2= dfpd[[\"a\",\"colint\"]].rename(columns  ={\"a\":\"a2\"})\n",
    "tab2[\"a2\"]=tab2[\"a2\"]*10\n",
    "tab2pd = tab2.sort_values(\"a2\")\n",
    "\n",
    "\n",
    "deltime = (time.time() - start_time)  * 1_000  #ms\n",
    "\n",
    "res={\n",
    "\"what\":\"sort_values\",\n",
    "\"package\":\"pandas\",\n",
    "\"time\": deltime\n",
    "}\n",
    "\n",
    "bench.append(res)\n",
    "print(res)"
   ]
  },
  {
   "cell_type": "code",
   "execution_count": null,
   "id": "a1af4b1e-4e58-466b-8b7a-3ab0275b6c2c",
   "metadata": {},
   "outputs": [],
   "source": []
  },
  {
   "cell_type": "code",
   "execution_count": 20,
   "id": "e1806964-a4d9-4ee7-ac92-55d3c62ebc37",
   "metadata": {},
   "outputs": [
    {
     "name": "stdout",
     "output_type": "stream",
     "text": [
      "{'what': 'sort_values', 'package': 'dask', 'time': 46.8592643737793}\n"
     ]
    }
   ],
   "source": [
    "start_time = time.time()\n",
    "\n",
    "tab2= dfdd[[\"a\",\"colint\"]].rename(columns  ={\"a\":\"a2\"})\n",
    "tab2[\"a2\"]=tab2[\"a2\"]*10\n",
    "tab2dd = tab2.sort_values(\"a2\")\n",
    "\n",
    "\n",
    "deltime = (time.time() - start_time)  * 1_000  #ms\n",
    "\n",
    "res={\n",
    "\"what\":\"sort_values\",\n",
    "\"package\":\"dask\",\n",
    "\"time\": deltime\n",
    "}\n",
    "\n",
    "bench.append(res)\n",
    "print(res)"
   ]
  },
  {
   "cell_type": "code",
   "execution_count": null,
   "id": "a3b03a16-3f7e-4930-b7b6-3ead82d71201",
   "metadata": {},
   "outputs": [],
   "source": []
  },
  {
   "cell_type": "code",
   "execution_count": 21,
   "id": "ad505700-9c02-4636-b577-bb31f23e957d",
   "metadata": {},
   "outputs": [
    {
     "name": "stdout",
     "output_type": "stream",
     "text": [
      "{'what': 'sort_values', 'package': 'polars', 'time': 1784.329891204834}\n"
     ]
    }
   ],
   "source": [
    "start_time = time.time()\n",
    "\n",
    "\n",
    "tab2= dfpl[[\"a\",\"colint\"]].rename({\"a\":\"a2\"})\n",
    "tab2 = tab2.with_columns((tab2[\"a2\"] * 10).alias(\"a2\"))\n",
    "tab2pl = tab2.sort(\"a2\")\n",
    "\n",
    "\n",
    "deltime = (time.time() - start_time)  * 1_000  #ms\n",
    "\n",
    "res={\n",
    "\"what\":\"sort_values\",\n",
    "\"package\":\"polars\",\n",
    "\"time\": deltime\n",
    "}\n",
    "\n",
    "bench.append(res)\n",
    "print(res)"
   ]
  },
  {
   "cell_type": "markdown",
   "id": "f2680b98-5807-4807-ae20-3009dbcdde13",
   "metadata": {},
   "source": [
    "## Left join"
   ]
  },
  {
   "cell_type": "markdown",
   "id": "510c613d-6197-4ebe-b03e-bfdc2a8e962c",
   "metadata": {},
   "source": [
    "**join vs merge in pandas** <br>\n",
    "| Feature              | `merge()`                                | `join()`                               |\n",
    "|----------------------|------------------------------------------|----------------------------------------|\n",
    "| **Primary Use**       | Joins DataFrames based on columns.       | Joins DataFrames based on index or column. |\n",
    "| **Join Keys**         | Can join on columns with different names (`left_on` and `right_on`). | Primarily uses indexes by default, but can join on columns if set as the index. |\n",
    "| **Flexibility**       | More flexible with column-based joins, and supports multiple columns. | Simpler, mainly designed for index-based joins. |\n",
    "| **Syntax Complexity** | More complex syntax with more options.   | Simpler, especially for index-based joins. |\n",
    "| **Common Use Case**   | SQL-style joins where you specify columns explicitly. | Join DataFrames when you want to join based on index (or set a column as index). |\n"
   ]
  },
  {
   "cell_type": "raw",
   "id": "6e47997f-c6ff-40fc-9bfa-c87a4ef61003",
   "metadata": {},
   "source": [
    "%%time \n",
    "dfpdjoin = dfpd.merge(dfpdgroupby , how=\"right\", on=\"colint\")"
   ]
  },
  {
   "cell_type": "raw",
   "id": "757ed93d-d549-4c93-8cbd-8419e40e096f",
   "metadata": {},
   "source": [
    "dfpdgroupby2= dfpdgroupby .rename ({x:x+\"_\" for x in ['a', 'b', 'c', 'd', 'e']}, \n",
    "                    axis =1)"
   ]
  },
  {
   "cell_type": "raw",
   "id": "1f980b34-7d30-46bb-8d78-1ac8e87231d7",
   "metadata": {},
   "source": [
    "%%time \n",
    "dfpdjoin = dfpd.join(dfpdgroupby2 , how=\"right\", on=\"colint\")\n",
    "# kernel died each time "
   ]
  },
  {
   "cell_type": "code",
   "execution_count": 22,
   "id": "2e06c865-437b-4466-8752-7b75f2119393",
   "metadata": {},
   "outputs": [
    {
     "name": "stdout",
     "output_type": "stream",
     "text": [
      "{'what': 'left_join', 'package': 'pandas', 'time': 4404.075384140015}\n"
     ]
    }
   ],
   "source": [
    "start_time = time.time()\n",
    "\n",
    "\n",
    "dfpdjoin = dfpd.merge(dfpdgroupby , how=\"right\", on=\"colint\")\n",
    "\n",
    "\n",
    "deltime = (time.time() - start_time)  * 1_000  #ms\n",
    "\n",
    "res={\n",
    "\"what\":\"left_join\",\n",
    "\"package\":\"pandas\",\n",
    "\"time\": deltime\n",
    "}\n",
    "\n",
    "bench.append(res)\n",
    "print(res)"
   ]
  },
  {
   "cell_type": "code",
   "execution_count": 23,
   "id": "4a678f98-99f6-4cbe-ba9e-b3b655b1e1f1",
   "metadata": {},
   "outputs": [
    {
     "name": "stdout",
     "output_type": "stream",
     "text": [
      "{'what': 'left_join', 'package': 'dask', 'time': 27.34375}\n"
     ]
    }
   ],
   "source": [
    "start_time = time.time()\n",
    "\n",
    "\n",
    "dfddjoin = dfdd.merge(dfddgroupby , how=\"right\", on=\"colint\")\n",
    "\n",
    "\n",
    "deltime = (time.time() - start_time)  * 1_000  #ms\n",
    "\n",
    "res={\n",
    "\"what\":\"left_join\",\n",
    "\"package\":\"dask\",\n",
    "\"time\": deltime\n",
    "}\n",
    "\n",
    "bench.append(res)\n",
    "print(res)"
   ]
  },
  {
   "cell_type": "code",
   "execution_count": 24,
   "id": "9ee3c7df-aaf6-4ba5-91df-2e42ecf6aecb",
   "metadata": {},
   "outputs": [
    {
     "name": "stdout",
     "output_type": "stream",
     "text": [
      "{'what': 'left_join', 'package': 'polars', 'time': 783.4796905517578}\n"
     ]
    }
   ],
   "source": [
    "start_time = time.time()\n",
    "\n",
    "\n",
    "dfpljoin = dfpl.join(dfplgroupby , how=\"right\", on=\"colint\")\n",
    "\n",
    "\n",
    "\n",
    "deltime = (time.time() - start_time)  * 1_000  #ms\n",
    "\n",
    "res={\n",
    "\"what\":\"left_join\",\n",
    "\"package\":\"polars\",\n",
    "\"time\": deltime\n",
    "}\n",
    "\n",
    "bench.append(res)\n",
    "print(res)"
   ]
  },
  {
   "cell_type": "markdown",
   "id": "ac0a0368-eec5-4570-a402-dfac9ac67d74",
   "metadata": {},
   "source": [
    "## Result"
   ]
  },
  {
   "cell_type": "code",
   "execution_count": 58,
   "id": "818ce92c-e9d5-4ca2-92cb-b48d6e96e514",
   "metadata": {},
   "outputs": [],
   "source": [
    "res = pd.DataFrame(bench)\n",
    "res =res.sort_values(\"time\")\n",
    "res[\"sort1\"]= res.package.map({'dask':3, 'polars':2, 'pandas':1})\n",
    "#res=res.sort_values(\"sort1\")"
   ]
  },
  {
   "cell_type": "code",
   "execution_count": 59,
   "id": "fbd2c899-990a-449c-a77e-3d5c3726dca7",
   "metadata": {},
   "outputs": [
    {
     "data": {
      "text/plain": [
       "array(['agg_sum', 'left_join', 'sort_values', 'loadparquet',\n",
       "       'groupby_mean', 'saveparquet'], dtype=object)"
      ]
     },
     "execution_count": 59,
     "metadata": {},
     "output_type": "execute_result"
    }
   ],
   "source": [
    "res.what.unique()"
   ]
  },
  {
   "cell_type": "code",
   "execution_count": 60,
   "id": "51a31671-197e-4b5c-bf66-6c69fc9a7d2a",
   "metadata": {},
   "outputs": [],
   "source": [
    "res[\"sort2\"]=res.what.map({\n",
    "    'agg_sum':2, \n",
    "    'left_join':5, \n",
    "    'sort_values':4, \n",
    "    'loadparquet':1,\n",
    "    'groupby_mean':3, \n",
    "    'saveparquet':0})\n",
    "res=res.sort_values([\"sort2\", \"sort1\"])"
   ]
  },
  {
   "cell_type": "code",
   "execution_count": 61,
   "id": "756a107e-0c05-4776-9a49-120fc8645e73",
   "metadata": {},
   "outputs": [
    {
     "data": {
      "image/png": "[encoded data removed]",
      "text/plain": [
       "<Figure size 1400x400 with 2 Axes>"
      ]
     },
     "metadata": {},
     "output_type": "display_data"
    }
   ],
   "source": [
    "import seaborn as sns\n",
    "import matplotlib.pyplot as plt\n",
    "\n",
    "fig, axs = plt.subplots(1,2, figsize=(14,4))\n",
    "sns.barplot(data= res, x= \"what\", y= \"time\", hue=\"package\", width =0.5, ax= axs[0]) \n",
    "sns.barplot(data= res, x= \"what\", y= \"time\", hue=\"package\", width =0.5, ax= axs[1]) \n",
    "axs[1].set_yscale(\"log\")\n",
    "\n",
    "axs[0].tick_params(axis=\"x\", rotation=90)\n",
    "axs[1].tick_params(axis=\"x\", rotation=90)\n",
    "axs[0].set_xlabel(\"\")\n",
    "axs[1].set_xlabel(\"\")\n",
    "\n",
    "axs[0].grid(which= \"both\") \n",
    "axs[1].grid(which= \"both\")\n",
    "axs[0].set_title(\"time linear\") \n",
    "axs[1].set_title(\"time log\") \n",
    "\n",
    "axs[0].set_ylabel(\"time (ms)\")\n",
    "axs[1].set_ylabel(\"time (ms)\")\n",
    "axs[1].legend().remove()\n",
    "\n",
    "plt.show()"
   ]
  }
 ],
 "metadata": {
  "kernelspec": {
   "display_name": "Python 3 (ipykernel)",
   "language": "python",
   "name": "python3"
  },
  "language_info": {
   "codemirror_mode": {
    "name": "ipython",
    "version": 3
   },
   "file_extension": ".py",
   "mimetype": "text/x-python",
   "name": "python",
   "nbconvert_exporter": "python",
   "pygments_lexer": "ipython3",
   "version": "3.10.5"
  }
 },
 "nbformat": 4,
 "nbformat_minor": 5
}
